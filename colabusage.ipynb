{
  "nbformat": 4,
  "nbformat_minor": 0,
  "metadata": {
    "colab": {
      "name": "colabusage.ipynb",
      "provenance": [],
      "collapsed_sections": [],
      "authorship_tag": "ABX9TyMqai1G6ISsPGQt2KlJJi6J",
      "include_colab_link": true
    },
    "kernelspec": {
      "name": "python3",
      "display_name": "Python 3"
    }
  },
  "cells": [
    {
      "cell_type": "markdown",
      "metadata": {
        "id": "view-in-github",
        "colab_type": "text"
      },
      "source": [
        "<a href=\"https://colab.research.google.com/github/knbruno/colab-usage/blob/main/colabusage.ipynb\" target=\"_parent\"><img src=\"https://colab.research.google.com/assets/colab-badge.svg\" alt=\"Open In Colab\"/></a>"
      ]
    },
    {
      "cell_type": "markdown",
      "metadata": {
        "id": "kCgf1EVWOofU"
      },
      "source": [
        "# colab 활용 Docs guide\n",
        "colab 초기화면에 나오는 \"Welcome To Colaboratory\" 내용을 기본으로 작성함.\n",
        "* [colab 초기화면](https://colab.research.google.com/notebooks/intro.ipynb?utm_source=scs-index&hl=en#recent=true)\n",
        "  * 한글 > 영어로 전환 [도움말]=>[영어로 보기]\n",
        "* [Overview of Colab Features](https://colab.research.google.com/notebooks/basic_features_overview.ipynb)\n",
        "* [Markdown Guide](https://colab.research.google.com/notebooks/markdown_guide.ipynb)\n",
        "* [Using Google Colab with GitHub](https://colab.research.google.com/github/googlecolab/colabtools/blob/master/notebooks/colab-github-demo.ipynb)"
      ]
    },
    {
      "cell_type": "markdown",
      "metadata": {
        "id": "xd1Z3UMGuukx"
      },
      "source": [
        "# COLAB 사용 기초 \n",
        "  * colab은 Jupyter Notebook 프로그램의 구글 브라우저 버젼이다,\n",
        "  * 구글에 로그인 한 후 'colab' 찾아서 실행하면  코랩에 대한 간단한 설명이 뜬다.\n",
        "  * [파일/새노트]를 클릭하면 위와 같은 화면이 뜬다.\n",
        "  * colab 사용중에 그 내용은 '구글 드라이브'에 자동으로 기록되며, [파일/새노트]로 파일을 만든경우 'untitled.ipynb'라는 제목으로 'Colab Notebooks' dirctory에 기록이 된다.\n",
        "  * jupyter notebook의 특징은 'python'을 실행하는 cell과 문서를 작성하는 'markdown'을 실행하는 cell을 함께 사용하여, 프로그램을 해보면서 기록을 남겨둘 수 있는 특징이 있다. \n",
        "  * 위의 cell은 python interpreter를 실행하는 cell로 파이썬 프로그램을 입력하고 'shift/enter를 누르면 실행이 되어 결과가 나오고, 인터넷을 통하는 관계로 시간이 좀 걸린다. \n",
        "  * 위에서 ''+ 코드'를 클릭하고 코드셀이 나오면,  '2 + 3' 을 입력하고 shift/enter 하면 아래에 결과가 나온다.\n",
        "  * 코드셀에서 '#' 표시한 line은 코드와 무관한 '주석' 으로서 필요한 셜명을 적는다."
      ]
    },
    {
      "cell_type": "code",
      "metadata": {
        "colab": {
          "base_uri": "https://localhost:8080/"
        },
        "id": "5DGKoOoB-kf5",
        "outputId": "641808b9-572a-4499-b0f9-12689176125b"
      },
      "source": [
        "2 + 3    # shift/enter 누르면 실행이 된다."
      ],
      "execution_count": null,
      "outputs": [
        {
          "output_type": "execute_result",
          "data": {
            "text/plain": [
              "5"
            ]
          },
          "metadata": {
            "tags": []
          },
          "execution_count": 1
        }
      ]
    },
    {
      "cell_type": "code",
      "metadata": {
        "colab": {
          "base_uri": "https://localhost:8080/"
        },
        "id": "vLWya4hG-oqA",
        "outputId": "ec74abf3-3081-44ef-e31f-d7dd0087e061"
      },
      "source": [
        "# a, b 등은 variable(변수)이라고 하며 임시로 담아두는 그릇이다\n",
        "a = 2\n",
        "b = 3\n",
        "a + b  # shift/enter"
      ],
      "execution_count": null,
      "outputs": [
        {
          "output_type": "execute_result",
          "data": {
            "text/plain": [
              "5"
            ]
          },
          "metadata": {
            "tags": []
          },
          "execution_count": 3
        }
      ]
    },
    {
      "cell_type": "code",
      "metadata": {
        "colab": {
          "base_uri": "https://localhost:8080/"
        },
        "id": "VUdfSzDH_0Pl",
        "outputId": "beb85b2f-6bbd-40ab-e294-e575ffafc505"
      },
      "source": [
        "# 변수의 내용은 바꿀 수 있다.\n",
        "a = 3\n",
        "b = 4\n",
        "a + b  # shift/enter"
      ],
      "execution_count": null,
      "outputs": [
        {
          "output_type": "execute_result",
          "data": {
            "text/plain": [
              "7"
            ]
          },
          "metadata": {
            "tags": []
          },
          "execution_count": 4
        }
      ]
    },
    {
      "cell_type": "markdown",
      "metadata": {
        "id": "p6oXCF14Q4lK"
      },
      "source": [
        "# markdown 사용 기초 => \"markdown guide in colab.ipynb\" 참조\n",
        "  * colab에서 [+ 텍스트]를 클릭하면 'markdown cell'이 생긴다.\n",
        "  * markdown은 internet version의 간단한 word processor이며 power point 처럼 활용할 수도 있다고 한다.\n",
        "  * line 첫머리에 '#' 표시를 하면 가장 큰 글자로, '##'가 많아질수록 좀 적은 글자 제목이 된다.\n",
        "  * <tab + *> 하면 list 형태로 표시된다. \n",
        "  * 줄을 바꾸려면 줄 끝에 \\를 입력하고 바꾼다. \\\n",
        "  줄이 바뀐다.\n",
        "\n",
        "\n",
        "\n"
      ]
    },
    {
      "cell_type": "markdown",
      "metadata": {
        "id": "RzxECE15bsvc"
      },
      "source": [
        ""
      ]
    },
    {
      "cell_type": "markdown",
      "metadata": {
        "id": "8mo8aZ2nbu5s"
      },
      "source": [
        "# colab에서 google drive 활용 기초\n"
      ]
    },
    {
      "cell_type": "code",
      "metadata": {
        "id": "rAMEDDQ2L1yH"
      },
      "source": [
        ""
      ],
      "execution_count": null,
      "outputs": []
    },
    {
      "cell_type": "markdown",
      "metadata": {
        "id": "niUy1xodKXY7"
      },
      "source": [
        ""
      ]
    },
    {
      "cell_type": "markdown",
      "metadata": {
        "id": "fM2lp4bTHYzl"
      },
      "source": [
        "## mounting google drive to colab.\n",
        "* 좌측 메뉴를 열고 아래쪽 file icon clic\n",
        "  * 상부 3개 icon중에 우측 'drive mount' icon clic\n",
        "  * 'mount 하겠습니까' pupup => ok\n",
        "  * mounting 시작되면서 'drive/MyDrive 생성됨\n",
        "    * mount 되면 'drive icon' 이 'mount 해제 icon으로 바뀜.\n",
        "* 명령cell에서 mount 명령어 실행\n",
        "  * 실행시 등장하는 URL을 클릭하여 허용해주면 인증KEY가 나타난다. 복사하여 URL아래 빈칸에 붙여넣으면 마운트에 성공하게된다."
      ]
    },
    {
      "cell_type": "code",
      "metadata": {
        "id": "XtsBC-L7b8Hy",
        "colab": {
          "base_uri": "https://localhost:8080/"
        },
        "outputId": "d4a515ce-0624-4ff9-905c-c797e453e98f"
      },
      "source": [
        "from google.colab import drive\n",
        "drive.mount('/content/MyDrive')        # need gdrive 인증키"
      ],
      "execution_count": null,
      "outputs": [
        {
          "output_type": "stream",
          "text": [
            "Mounted at /content/MyDrive\n"
          ],
          "name": "stdout"
        }
      ]
    },
    {
      "cell_type": "markdown",
      "metadata": {
        "id": "eLXdd5OnMFFm"
      },
      "source": [
        "* [file menue]를 double clic => 우측에 [원시 소스]가 보임"
      ]
    },
    {
      "cell_type": "markdown",
      "metadata": {
        "id": "lW-LxuqqPSr8"
      },
      "source": [
        "## Google Drive mount후 file 열기\n",
        "* 상부의 [파일]메뉴에서 =>[노트 열기]\n",
        "  * pupup menue에서 =>[구글 드라이브에서 찾기]\n",
        "  * list => [open in new tab]"
      ]
    },
    {
      "cell_type": "markdown",
      "metadata": {
        "id": "XDj9jMerQwuN"
      },
      "source": [
        "# colab & github\n",
        "Colab Docs <br>\n",
        "[Using Google Colab with GitHub](https://colab.research.google.com/github/googlecolab/colabtools/blob/master/notebooks/colab-github-demo.ipynb)"
      ]
    },
    {
      "cell_type": "markdown",
      "metadata": {
        "id": "U9pkYFZO5CgK"
      },
      "source": [
        "* 먼저 github 가입하여 'colab-usage' repository를 만든다.\n",
        "* colab을 시작하고 g-drive를 mount한다.\n",
        "* start g-drive/colabusage.ipynb\n",
        "* File > github 사본으로 저장\n",
        "* github id 확인창에서 확인하면 repository에 upload 되고, <br>\n",
        "   새 tab에 github page가 뜬다. \n",
        "* 수정/작업계속 할때는 다시 원본 colab에서 하고 다시 File > github upload."
      ]
    },
    {
      "cell_type": "code",
      "metadata": {
        "id": "tZanRsYdJ43_"
      },
      "source": [
        ""
      ],
      "execution_count": null,
      "outputs": []
    }
  ]
}